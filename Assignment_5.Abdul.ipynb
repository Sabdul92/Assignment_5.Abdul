{
 "cells": [
  {
   "cell_type": "code",
   "execution_count": null,
   "id": "9987c244",
   "metadata": {},
   "outputs": [],
   "source": [
    "Q.1) What does an empty dictionary's code look like?\n",
    "\n",
    "Ans. An empty dictionary's code look like two curly brackets: {}\n"
   ]
  },
  {
   "cell_type": "code",
   "execution_count": null,
   "id": "b2de6d94",
   "metadata": {},
   "outputs": [],
   "source": [
    "\n",
    "Q.2) What is the value of a dictionary value with the key 'foo' and the value 42?\n",
    "\n",
    "Ans. The value of a dictionary value with the key 'foo' and the value 42 is {'foo': 42}\n",
    "\n",
    "dic = {'foo' : 42}\n"
   ]
  },
  {
   "cell_type": "code",
   "execution_count": null,
   "id": "70e1f68c",
   "metadata": {},
   "outputs": [],
   "source": [
    "Q.3) What is the most significant distinction between a dictionary and a list?\n",
    "\n",
    "Ans. The items in a list are ordered items, while the items stored in a dictionary are unordered\n",
    "\n"
   ]
  },
  {
   "cell_type": "code",
   "execution_count": null,
   "id": "3933e630",
   "metadata": {},
   "outputs": [],
   "source": [
    "Q.4 What happens if you try to access spam['foo'] if spam is {'bar': 100}?\n",
    "\n",
    "spam = {'bar': 100}\n",
    "spam['foo']\n",
    "\n",
    "**************************************************************************\n",
    "KeyError                                  Traceback (most recent call last)\n",
    "<ipython-input-2-56a8e50c7ff8> in <module>\n",
    "      1 spam = {'bar': 100}\n",
    "----> 2 spam['foo']\n",
    "\n",
    "KeyError: 'foo'\n",
    "- Answer -\n",
    "\n",
    "We will get a KeyError error.\n"
   ]
  },
  {
   "cell_type": "code",
   "execution_count": null,
   "id": "8e3187ad",
   "metadata": {},
   "outputs": [],
   "source": [
    "Q.5) If a dictionary is stored in spam, what is the difference between the expressions 'cat' in spam and 'cat' in spam.keys()?\n",
    "\n",
    "Ans. There is no difference. The in operator checks whether a value exists as a key in the dictionary.\n"
   ]
  },
  {
   "cell_type": "code",
   "execution_count": null,
   "id": "0fa45f87",
   "metadata": {},
   "outputs": [],
   "source": [
    "Q.6) If a dictionary is stored in spam, what is the difference between the expressions 'cat' in spam and 'cat' in spam.values()?\n",
    "\n",
    "Ans. 'cat' in spam checks whether there is a 'cat' key in the dictionary, while 'cat' in spam.values() checks whether\n",
    "      there is a value 'cat' for one of the keys in spam.\n"
   ]
  },
  {
   "cell_type": "code",
   "execution_count": null,
   "id": "ef2cbaa9",
   "metadata": {},
   "outputs": [],
   "source": [
    "Q.7) What is a shortcut for the following code?\n",
    "\n",
    "if 'color' not in spam:\n",
    "spam['color'] = 'black'\n",
    "\n",
    "Ans\n",
    "spam.setdefault('color', 'black')"
   ]
  },
  {
   "cell_type": "code",
   "execution_count": null,
   "id": "8a2269ec",
   "metadata": {},
   "outputs": [],
   "source": [
    "Q.8) How do you \"pretty print\" dictionary values using which module and function?\n",
    "\n",
    "Answer -\n",
    "pprint.pprint()"
   ]
  }
 ],
 "metadata": {
  "kernelspec": {
   "display_name": "Python 3 (ipykernel)",
   "language": "python",
   "name": "python3"
  },
  "language_info": {
   "codemirror_mode": {
    "name": "ipython",
    "version": 3
   },
   "file_extension": ".py",
   "mimetype": "text/x-python",
   "name": "python",
   "nbconvert_exporter": "python",
   "pygments_lexer": "ipython3",
   "version": "3.10.9"
  }
 },
 "nbformat": 4,
 "nbformat_minor": 5
}
